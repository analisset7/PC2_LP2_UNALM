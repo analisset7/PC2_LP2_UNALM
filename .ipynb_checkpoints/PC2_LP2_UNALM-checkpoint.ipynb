{
 "cells": [
  {
   "cell_type": "markdown",
   "id": "e7111534",
   "metadata": {},
   "source": [
    "# PC2_LP2_UNALM"
   ]
  },
  {
   "cell_type": "markdown",
   "id": "c6cbc6f9",
   "metadata": {},
   "source": [
    "# GRUPO: N°8"
   ]
  },
  {
   "cell_type": "markdown",
   "id": "0d9a1fbe",
   "metadata": {},
   "source": [
    "Integrantes:\n",
    "- analisset7 - Ana Lisset Chucas Mera 20191296\n",
    "- Huerta14   - Stefano Huerta Barba 20191305\n",
    "- elian1300  - Elian Cuellar 20191300"
   ]
  },
  {
   "cell_type": "markdown",
   "id": "4e2b066b",
   "metadata": {},
   "source": [
    "- ¿Tiene API?\n",
    " No tiene API\n",
    " La página SI tiene API, sin embargo son de pago, por lo que no hemos requerido del uso de API y hemos hecho web scraping dinamico, es necesario mencionar que en nuestro trabajo usamos varios códigos de internet usados para el web scraping de otras páginas; https://www.udemy.com/course/curso-maestro-web-scraping/learn/lecture/18366012?start=180, https://es.stackoverflow.com/questions/414104/web-scrapping-en-sitios-con-carga-dinamica-js, https://gist.github.com/Nanguage/f35b1f66a968c204dc13dc035a163d7e, https://selenium-python.readthedocs.io/installation.html#drivers, https://selenium-python.readthedocs.io/navigating.html , https://www.w3schools.com/python/python_try_except.aspy muchas otras."
   ]
  },
  {
   "cell_type": "markdown",
   "id": "d61e0611",
   "metadata": {},
   "source": [
    "NUESTRO TRABAJO SE ENCUENTRA EN EL REPOSITORIO COLABORATIVO:\n",
    "- https://github.com/analisset7/PC2_LP2_UNALM"
   ]
  },
  {
   "cell_type": "code",
   "execution_count": 10,
   "id": "1365f490",
   "metadata": {
    "scrolled": true
   },
   "outputs": [
    {
     "data": {
      "text/html": [
       "<div>\n",
       "<style scoped>\n",
       "    .dataframe tbody tr th:only-of-type {\n",
       "        vertical-align: middle;\n",
       "    }\n",
       "\n",
       "    .dataframe tbody tr th {\n",
       "        vertical-align: top;\n",
       "    }\n",
       "\n",
       "    .dataframe thead th {\n",
       "        text-align: right;\n",
       "    }\n",
       "</style>\n",
       "<table border=\"1\" class=\"dataframe\">\n",
       "  <thead>\n",
       "    <tr style=\"text-align: right;\">\n",
       "      <th></th>\n",
       "      <th>Gen Abrev</th>\n",
       "      <th>Category</th>\n",
       "      <th>Name of the gene</th>\n",
       "      <th>Inicio</th>\n",
       "      <th>Final</th>\n",
       "      <th>RNASeq</th>\n",
       "      <th>Microarray</th>\n",
       "      <th>SAGE</th>\n",
       "    </tr>\n",
       "  </thead>\n",
       "  <tbody>\n",
       "    <tr>\n",
       "      <th>0</th>\n",
       "      <td>TRNAS-GGA</td>\n",
       "      <td>NaN</td>\n",
       "      <td>NaN</td>\n",
       "      <td>32091689</td>\n",
       "      <td>32091761</td>\n",
       "      <td>NaN</td>\n",
       "      <td>NaN</td>\n",
       "      <td>NaN</td>\n",
       "    </tr>\n",
       "    <tr>\n",
       "      <th>1</th>\n",
       "      <td>LOC102173449</td>\n",
       "      <td>NaN</td>\n",
       "      <td>NaN</td>\n",
       "      <td>32837131</td>\n",
       "      <td>32838076</td>\n",
       "      <td>NaN</td>\n",
       "      <td>NaN</td>\n",
       "      <td>NaN</td>\n",
       "    </tr>\n",
       "    <tr>\n",
       "      <th>2</th>\n",
       "      <td>LOC102169333</td>\n",
       "      <td>NaN</td>\n",
       "      <td>NaN</td>\n",
       "      <td>33089112</td>\n",
       "      <td>33090132</td>\n",
       "      <td>NaN</td>\n",
       "      <td>NaN</td>\n",
       "      <td>NaN</td>\n",
       "    </tr>\n",
       "    <tr>\n",
       "      <th>3</th>\n",
       "      <td>LOC108636757</td>\n",
       "      <td>NaN</td>\n",
       "      <td>NaN</td>\n",
       "      <td>33764252</td>\n",
       "      <td>33768221</td>\n",
       "      <td>NaN</td>\n",
       "      <td>NaN</td>\n",
       "      <td>NaN</td>\n",
       "    </tr>\n",
       "    <tr>\n",
       "      <th>4</th>\n",
       "      <td>LOC102187712</td>\n",
       "      <td>NaN</td>\n",
       "      <td>NaN</td>\n",
       "      <td>33810174</td>\n",
       "      <td>33811741</td>\n",
       "      <td>NaN</td>\n",
       "      <td>NaN</td>\n",
       "      <td>NaN</td>\n",
       "    </tr>\n",
       "  </tbody>\n",
       "</table>\n",
       "</div>"
      ],
      "text/plain": [
       "      Gen Abrev  Category  Name of the gene    Inicio     Final  RNASeq  \\\n",
       "0     TRNAS-GGA       NaN               NaN  32091689  32091761     NaN   \n",
       "1  LOC102173449       NaN               NaN  32837131  32838076     NaN   \n",
       "2  LOC102169333       NaN               NaN  33089112  33090132     NaN   \n",
       "3  LOC108636757       NaN               NaN  33764252  33768221     NaN   \n",
       "4  LOC102187712       NaN               NaN  33810174  33811741     NaN   \n",
       "\n",
       "   Microarray  SAGE  \n",
       "0         NaN   NaN  \n",
       "1         NaN   NaN  \n",
       "2         NaN   NaN  \n",
       "3         NaN   NaN  \n",
       "4         NaN   NaN  "
      ]
     },
     "execution_count": 10,
     "metadata": {},
     "output_type": "execute_result"
    }
   ],
   "source": [
    "import pandas as pd \n",
    "data= pd.read_excel('CHGenesOrdenadosConVecinos.xlsx',engine='openpyxl',skiprows=[0],usecols=range(8)) # Leemos el archivo de excel\n",
    "data.head() #mostramos la lectura"
   ]
  },
  {
   "cell_type": "code",
   "execution_count": 17,
   "id": "5584ab63",
   "metadata": {},
   "outputs": [
    {
     "data": {
      "text/plain": [
       "['TRNAS-GGA', 'LOC102173449', 'LOC102169333', 'LOC108636757', 'LOC102187712']"
      ]
     },
     "execution_count": 17,
     "metadata": {},
     "output_type": "execute_result"
    }
   ],
   "source": [
    "Gen=data[\"Gen Abrev\"] # Extraemos la primera columna y la guardamos en \"Gen\"\n",
    "Gen=Gen.tolist()      # Lo tranformamos en una lista\n",
    "Gen[0:5]  "
   ]
  },
  {
   "cell_type": "code",
   "execution_count": 18,
   "id": "09cf6ed2",
   "metadata": {},
   "outputs": [],
   "source": [
    "# en la página web vemos que cada GEN tiene un link en el cúal se encuentran las diferentes caracteristicas \n",
    "# que tenemos que extraer al excel, por lo que encontramos un patron en los links, los cuales los vamos a almacenar \n",
    "# en una lista llamada \"urls\" y con el párametro \"gene\" ubicado en el HTML vamos a hacer un for en el\n",
    "# \"+name\" dentro del URL semilla.\n",
    "\n",
    "urls=[]              # Creamos una lista vacia llamada urls\n",
    "for name in Gen:         # Hacemos un bucle for para cada elemento de nuestra lista Gen\n",
    "    url = 'https://www.genecards.org/cgi-bin/carddisp.pl?gene='+name+'#expression' # Almacenamos el url para cada gen \"+name\"\n",
    "    #print(url)\n",
    "    urls.append(url) # Agregamos cada url a la lista links"
   ]
  },
  {
   "cell_type": "markdown",
   "id": "d3c8a9e4",
   "metadata": {},
   "source": [
    "Esta página web que estamos scrapeando es una página que requiere del uso de Selenium y la instalación de webdriver.Chrome, para lo cual adjuntamos los 2 links de ayuda para su correcta instalación.\n",
    "https://selenium-python.readthedocs.io/navigating.html , https://www.youtube.com/watch?v=qYqGGrAA_IA&t=3s"
   ]
  },
  {
   "cell_type": "code",
   "execution_count": 19,
   "id": "82c1bfe6",
   "metadata": {},
   "outputs": [],
   "source": [
    "# LIBRERIAS\n",
    "import requests\n",
    "from bs4 import BeautifulSoup\n",
    "from selenium import webdriver\n",
    "import re \n",
    "from selenium.webdriver.common.action_chains import ActionChains\n",
    "from time import sleep"
   ]
  },
  {
   "cell_type": "code",
   "execution_count": 27,
   "id": "b83e2dd4",
   "metadata": {
    "scrolled": true
   },
   "outputs": [],
   "source": [
    "# hay información que nos pide el excel que se encuentra en la página como imagenes, por eso:\n",
    "# Abrimos el \"web driver\" con todos los URLs de cada uno de los genes.\n",
    "# puede demorar largo tiempo ya que abre link por link de todos los genes\n",
    "link='https://www.genecards.org/cgi-bin/carddisp.pl?gene=HTR1F#expression'\n",
    "driver = webdriver.Chrome(executable_path=\"C:/Users/Ana/Desktop/PC2_LP2_UNALM/chromedriver.exe\") # Simulación chrome\n",
    "lista_html=[]              \n",
    "for link in urls:   \n",
    "    driver.get(link) \n",
    "   \n",
    "    try:\n",
    "        element = driver.find_element_by_id(\"expressionImage\") \n",
    "        soup = BeautifulSoup(driver.page_source, features='html.parser')\n",
    "        while(soup.find(\"area\")==None):\n",
    "            driver.get(link) \n",
    "            soup = BeautifulSoup(driver.page_source, features='html.parser')\n",
    "        lista_html.append(soup)\n",
    "    except:\n",
    "        lista_html.append(None)\n",
    "        continue\n",
    "driver.quit()  # cerrar navegador"
   ]
  },
  {
   "cell_type": "code",
   "execution_count": 30,
   "id": "739d037a",
   "metadata": {},
   "outputs": [
    {
     "name": "stdout",
     "output_type": "stream",
     "text": [
      "[[None], [None], [None], [None], [None], ['(Protein Coding)', 'Vestigial Like Family Member 3', '25, 44', 'Breast - No Data', '0'], ['(Protein Coding)', 'Charged Multivesicular Body Protein 2B', '42, 44', 'Breast - No Data', '21'], ['(Protein Coding)', 'POU Class 1 Homeobox 1', '2, 0', 'Breast - No Data', '3'], ['(Protein Coding)', '5-Hydroxytryptamine Receptor 1F', '6, 3', 'Breast - No Data', 'Breast - No Data'], [None], ['(Protein Coding)', 'CGG Triplet Repeat Binding Protein 1', '43, 49', 'Breast - No Data', '18'], ['(Protein Coding)', 'Zinc Finger Protein 654', '23, 20', 'Breast - No Data', '0'], [None], [None], ['(Protein Coding)', 'Solute Carrier Family 12 Member 8', '10, 11', 'Breast - No Data', 'Breast - No Data'], [None], ['(Protein Coding)', 'Zinc Finger Protein 148', '22, 26', 'Breast - No Data', '3'], ['(Protein Coding)', 'Sorting Nexin 4', '35, 38', 'Breast - No Data', '6'], ['(Protein Coding)', 'Oxysterol Binding Protein Like 11', '22, 27', 'Breast - No Data', 'Breast - No Data'], [None], ['(Protein Coding)', 'Ribosomal Protein L35a', '156, 260', 'Breast - No Data', '398'], ['(Protein Coding)', 'IQ Motif Containing G', '15, 29', 'Breast - No Data', '0'], ['(Protein Coding)', 'Leucine Rich Repeats And Calponin Homology Domain Containing 3', '23, 28', 'Breast - No Data', '7'], ['(Protein Coding)', 'Forty-Two-Three Domain Containing 1', '39, 55', 'Breast - No Data', 'Breast - No Data'], [None], ['(Protein Coding)', 'Mucin 20, Cell Surface Associated', '9, 14', 'Breast - No Data', '18'], ['(Protein Coding)', 'Mucin 4, Cell Surface Associated', '10, 2', 'Breast - No Data', 'Breast - No Data'], ['(Protein Coding)', 'Tyrosine Kinase Non Receptor 2', '44, 27', 'Breast - No Data', 'Breast - No Data'], ['(Protein Coding)', 'Transferrin Receptor', '32, 44', 'Breast - No Data', '15'], ['(Protein Coding)', 'Zinc Finger DHHC-Type Palmitoyltransferase 19', '5, 1', 'Breast - No Data', '0'], ['(Protein Coding)', 'Solute Carrier Family 51 Subunit Alpha', '9, Breast - No Data (Illumina)', 'Breast - No Data', 'Breast - No Data'], ['(Protein Coding)', 'Phosphate Cytidylyltransferase 1A, Choline', '23, 50', 'Breast - No Data', '0'], [None], [None], ['(Protein Coding)', 'UBX Domain Protein 7', '24, 27', 'Breast - No Data', 'Breast - No Data'], [None], [None], ['(Protein Coding)', 'Ring Finger Protein 168', '26, 30', 'Breast - No Data', '6'], ['(Protein Coding)', 'Single-Pass Membrane Protein With Coiled-Coil Domains 1', '2, Breast - No Data (Illumina)', 'Breast - No Data', '3'], ['(Protein Coding)', 'WD Repeat Domain 53', '20, 28', 'Breast - No Data', '3'], ['(Protein Coding)', 'F-Box Protein 45', '15, 20', 'Breast - No Data', '6'], [None], ['(Protein Coding)', 'Negative Regulator Of Reactive Oxygen Species', '20, Breast - No Data (Illumina)', 'Breast - No Data', '3'], [None], ['(Protein Coding)', 'Phosphatidylinositol Glycan Anchor Biosynthesis Class X', '20, 32', 'Breast - No Data', 'Breast - No Data'], ['(Protein Coding)', 'P21 (RAC1) Activated Kinase 2', '41, 43', 'Breast - No Data', 'Breast - No Data'], [None], ['(Protein Coding)', 'SUMO Specific Peptidase 5', '26, 26', 'Breast - No Data', '9'], ['(Protein Coding)', 'Nuclear Cap Binding Protein Subunit 2', '44, 58', 'Breast - No Data', '50'], ['(Protein Coding)', 'Phosphatidylinositol Glycan Anchor Biosynthesis Class Z', '22, 24', 'Breast - No Data', '3'], [None], [None], [None], ['(Protein Coding)', 'Somatostatin', '7, 0', 'Breast - No Data', 'Breast - No Data'], ['(Protein Coding)', 'Receptor Transporter Protein 4', '16, 15', 'Breast - No Data', '3'], [None], ['(Protein Coding)', 'MBL Associated Serine Protease 1', '9, 18', 'Breast - No Data', '0'], [None], [None], ['(Protein Coding)', 'ST6 Beta-Galactoside Alpha-2,6-Sialyltransferase 1', '31, 32', 'Breast - No Data', '3'], [None], ['(Protein Coding)', 'Adiponectin, C1Q And Collagen Domain Containing', '134, 227', 'Breast - No Data', '3'], ['(Protein Coding)', 'Replication Factor C Subunit 4', '21, 27', 'Breast - No Data', '6'], ['(Protein Coding)', 'Eukaryotic Translation Initiation Factor 4A2', '114, 120', 'Breast - No Data', '80'], [None], ['(Protein Coding)', 'Kininogen 1', '1, 0.69', 'Breast - No Data', '0'], ['(Protein Coding)', 'Histidine Rich Glycoprotein', '1, 0.18', 'Breast - No Data', '0'], ['(Protein Coding)', 'Fetuin B', '2, 1', 'Breast - No Data', '0'], ['(Protein Coding)', 'Alpha 2-HS Glycoprotein', '2, 4', 'Breast - No Data', '0'], [None], ['(Protein Coding)', 'DnaJ Heat Shock Protein Family (Hsp40) Member B11', '47, 164', 'Breast - No Data', '3'], ['(Protein Coding)', 'TBCC Domain Containing 1', '23, 17', 'Breast - No Data', '0'], ['(Protein Coding)', 'Crystallin Gamma S', '18, 13', 'Breast - No Data', '0'], ['(Protein Coding)', 'Diacylglycerol Kinase Gamma', '9, 7', 'Breast - No Data', '0'], [None], [None], [None], [None], ['(Protein Coding)', 'Insulin Like Growth Factor 2 MRNA Binding Protein 2', '19, 13', 'Breast - No Data', '3'], ['(Protein Coding)', 'SUMO Specific Peptidase 2', '29, 39', 'Breast - No Data', 'Breast - No Data'], ['(Protein Coding)', 'RNA Polymerase II, I And III Subunit H', '46, 50', 'Breast - No Data', '18'], ['(Protein Coding)', 'Chloride Voltage-Gated Channel 2', '15, 6', 'Breast - No Data', '0'], [None], ['(Protein Coding)', 'Family With Sequence Similarity 131 Member A', '18, 20', 'Breast - No Data', '3'], ['(Protein Coding)', 'Eukaryotic Translation Initiation Factor 4 Gamma 1', '74, 84', 'Breast - No Data', '103'], ['(Protein Coding)', 'Proteasome 26S Subunit Ubiquitin Receptor, Non-ATPase 2', '60, 68', 'Breast - No Data', '18'], ['(Protein Coding)', 'Endothelin Converting Enzyme 2', '6, 8', 'Breast - No Data', '9'], ['(Protein Coding)', 'Calcium/Calmodulin Dependent Protein Kinase II Inhibitor 2', '2, 2', 'Breast - No Data', '0'], ['(Protein Coding)', 'ALG3 Alpha-1,3- Mannosyltransferase', '38, 33', 'Breast - No Data', '3'], [None], ['(Protein Coding)', 'ATP Binding Cassette Subfamily F Member 3', '45, 39', 'Breast - No Data', '12'], ['(Protein Coding)', 'Adaptor Related Protein Complex 2 Subunit Mu 1', '91, 110', 'Breast - No Data', '6'], ['(Protein Coding)', 'Dishevelled Segment Polarity Protein 3', '54, 33', 'Breast - No Data', '0'], ['(Protein Coding)', 'Eukaryotic Translation Initiation Factor 2B Subunit Epsilon', '45, 38', 'Breast - No Data', '6'], [None], [None], [None], [None], [None], ['(Protein Coding)', 'ATP Binding Cassette Subfamily C Member 5', '25, 22', 'Breast - No Data', '12'], [None], ['(Protein Coding)', 'Presenilin Associated Rhomboid Like', '51, 64', 'Breast - No Data', '0'], ['(Protein Coding)', 'MAP6 Domain Containing 1', '10, 8', 'Breast - No Data', '3'], ['(Protein Coding)', 'YEATS Domain Containing 2', '27, 17', 'Breast - No Data', '3'], [None], [None], [None], ['(Protein Coding)', 'Kelch Like Family Member 6', '9, 9', 'Breast - No Data', '0'], [None], ['(Protein Coding)', 'MCF.2 Cell Line Derived Transforming Sequence-Like 2', '4, 3', 'Breast - No Data', 'Breast - No Data'], [None], [None], ['(Protein Coding)', 'UDP-GlcNAc:BetaGal Beta-1,3-N-Acetylglucosaminyltransferase 5', '5, 25', 'Breast - No Data', '9'], [None], ['(Protein Coding)', 'Lysosomal Associated Membrane Protein 3', '6, 6', 'Breast - No Data', '0'], ['(Protein Coding)', 'Methylcrotonyl-CoA Carboxylase Subunit 1', '33, 39', 'Breast - No Data', '9'], ['(Protein Coding)', 'Defective In Cullin Neddylation 1 Domain Containing 1', '19, 42', 'Breast - No Data', 'Breast - No Data'], ['(Protein Coding)', 'ATPase Phospholipid Transporting 11B (Putative)', '28, 28', 'Breast - No Data', '6'], [None], [None], ['(Protein Coding)', 'TRAF2 And NCK Interacting Kinase', '13, 11', 'Breast - No Data', 'Breast - No Data'], ['(Protein Coding)', 'Solute Carrier Family 2 Member 2', '0.77, 0', 'Breast - No Data', '0'], [None], ['(Protein Coding)', 'Eukaryotic Translation Initiation Factor 5A2', '13, 17', 'Breast - No Data', 'Breast - No Data'], ['(Protein Coding)', 'Ribosomal Protein L22 Like 1', '33, 64', 'Breast - No Data', '50'], ['(Protein Coding)', 'Solute Carrier Family 7 Member 14', '2, 0.53', 'Breast - No Data', '3'], ['(Protein Coding)', 'Claudin 11', '29, 29', 'Breast - No Data', '6'], ['(Protein Coding)', 'SKI Like Proto-Oncogene', '25, 30', 'Breast - No Data', 'Breast - No Data'], ['(Protein Coding)', 'Protein Kinase C Iota', '28, 25', 'Breast - No Data', '35'], ['(Protein Coding)', 'Polyhomeotic Homolog 3', '17, 28', 'Breast - No Data', '6'], [None], [None], [None], [None], ['(Protein Coding)', 'SEC62 Homolog, Preprotein Translocation Factor', '45, 152', 'Breast - No Data', 'Breast - No Data'], ['(Protein Coding)', 'Sterile Alpha Motif Domain Containing 7', '0.77, 0', 'Breast - No Data', 'Breast - No Data'], ['(Protein Coding)', 'Leucine Rich Repeat Containing 31', '3, 0', 'Breast - No Data', '12'], [None], [None], ['(Protein Coding)', 'Leucine Rich Repeat Containing 34', '12, 19', 'Breast - No Data', 'Breast - No Data'], ['(Protein Coding)', 'Myoneurin', '22, 21', 'Breast - No Data', 'Breast - No Data'], ['(Protein Coding)', 'Actin Related Protein T3', '10, Breast - No Data (Illumina)', 'Breast - No Data', '3'], [None], [None], [None], ['(Protein Coding)', 'Short Stature Homeobox 2', '21, 20', 'Breast - No Data', '0'], ['(Protein Coding)', 'Ventricular Zone Expressed PH Domain Containing 1', '8, 6', 'Breast - No Data', '0'], [None], ['(Protein Coding)', 'Pentraxin 3', '65, 10', 'Breast - No Data', '6'], [None], ['(Protein Coding)', 'Cyclin L1', '75, 70', 'Breast - No Data', '100'], [None], ['(Protein Coding)', 'Leucine, Glutamate And Lysine Rich 1', '4, 2', 'Breast - No Data', 'Breast - No Data'], [None], [None], ['(Protein Coding)', 'Signal Sequence Receptor Subunit 3', '54, 81', 'Breast - No Data', '29'], [None], [None], ['(Protein Coding)', 'RAP2B, Member Of RAS Oncogene Family', '19, 25', 'Breast - No Data', 'Breast - No Data'], ['(Protein Coding)', 'Purinergic Receptor P2Y1', '6, 4', 'Breast - No Data', 'Breast - No Data'], [None], ['(Protein Coding)', 'Muscleblind Like Splicing Regulator 1', '55, 80', 'Breast - No Data', '9'], [None], ['(Protein Coding)', 'Succinate Receptor 1', '7, 18', 'Breast - No Data', 'Breast - No Data'], [None], [None], [None], [None], [None], [None], [None], [None], ['(Protein Coding)', 'Trefoil Factor 3', '41, Breast - No Data (Illumina)', 'Breast - No Data', '68'], ['(Protein Coding)', 'Trefoil Factor 2', '4, Breast - No Data (Illumina)', 'Breast - No Data', '0'], ['(Protein Coding)', 'Trefoil Factor 1', '18, Breast - No Data (Illumina)', 'Breast - No Data', '6'], ['(Protein Coding)', 'Transmembrane Serine Protease 3', '17, Breast - No Data (Illumina)', 'Breast - No Data', '9'], ['(Protein Coding)', 'Ubiquitin Associated And SH3 Domain Containing A', '5, Breast - No Data (Illumina)', 'Breast - No Data', '0'], ['(Protein Coding)', 'Radial Spoke Head Component 1', '10, Breast - No Data (Illumina)', 'Breast - No Data', '0'], ['(Protein Coding)', 'Solute Carrier Family 37 Member 1', '19, Breast - No Data (Illumina)', 'Breast - No Data', '3'], ['(Protein Coding)', 'Phosphodiesterase 9A', '24, Breast - No Data (Illumina)', 'Breast - No Data', '0'], ['(Protein Coding)', 'WD Repeat Domain 4', '18, Breast - No Data (Illumina)', 'Breast - No Data', '0'], ['(Protein Coding)', 'NADH:Ubiquinone Oxidoreductase Subunit V3', '31, Breast - No Data (Illumina)', 'Breast - No Data', '3'], ['(Protein Coding)', 'PBX/Knotted 1 Homeobox 1', '19, Breast - No Data (Illumina)', 'Breast - No Data', 'Breast - No Data'], ['(Protein Coding)', 'Adenosine Deaminase RNA Specific B1', '24, 25', 'Breast - No Data', '9'], ['(Protein Coding)', 'Protein O-Fucosyltransferase 2', '34, 20', 'Breast - No Data', '9'], ['(Protein Coding)', 'Collagen Type XVIII Alpha 1 Chain', '68, 50', 'Breast - No Data', '47'], ['(Protein Coding)', 'Solute Carrier Family 19 Member 1', '15, 20', 'Breast - No Data', '1'], ['(Protein Coding)', 'Poly(RC) Binding Protein 3', '11, 24', 'Breast - No Data', '0'], [None], ['(Protein Coding)', 'Collagen Type VI Alpha 1 Chain', '159, 113', 'Breast - No Data', '147'], ['(Protein Coding)', 'Collagen Type VI Alpha 2 Chain', '165, 126', 'Breast - No Data', '77'], ['(Protein Coding)', 'Formimidoyltransferase Cyclodeaminase', '5, 3', 'Breast - No Data', 'Breast - No Data'], ['(Protein Coding)', 'Spermatogenesis And Centriole Associated 1 Like', '20, Breast - No Data (Illumina)', 'Breast - No Data', '9'], ['(Protein Coding)', 'Lanosterol Synthase', '49, 45', 'Breast - No Data', '3'], ['(Protein Coding)', 'Minichromosome Maintenance Complex Component 3 Associated Protein', '44, 41', 'Breast - No Data', '21'], ['(Protein Coding)', 'YbeY Metalloendoribonuclease', '25, 24', 'Breast - No Data', '0'], [None], ['(Protein Coding)', 'Pericentrin', '21, 21', 'Breast - No Data', '3'], [None], [None], ['(Protein Coding)', 'Disco Interacting Protein 2 Homolog A', '31, 25', 'Breast - No Data', '6'], ['(Protein Coding)', 'S100 Calcium Binding Protein B', '56, 76', 'Breast - No Data', '9'], ['(Protein Coding)', 'Protein Arginine Methyltransferase 2', '42, 54', 'Breast - No Data', '24'], ['(Protein Coding)', 'F-Box Protein 25', '26, 46', 'Breast - No Data', '3'], ['(Protein Coding)', 'Testis Development Related Protein', '30, Breast - No Data (Illumina)', 'Breast - No Data', 'Breast - No Data'], [None], ['(Protein Coding)', 'Deleted In Azoospermia Like', '1, 0.71', 'Breast - No Data', '15'], ['(Protein Coding)', 'Phospholipase C Like 2', '21, 21', 'Breast - No Data', '6'], ['(Protein Coding)', 'TBC1 Domain Family Member 5', '26, 37', 'Breast - No Data', '12'], [None], ['(Protein Coding)', 'SATB Homeobox 1', '23, 28', 'Breast - No Data', '3'], ['(Protein Coding)', 'Potassium Voltage-Gated Channel Subfamily H Member 8', '10, 4', 'Breast - No Data', '0']]\n"
     ]
    }
   ],
   "source": [
    "genes=[]\n",
    "for gen in lista_html:\n",
    "    G=[]\n",
    "    if gen == None:\n",
    "        G.append(None)\n",
    "    else:\n",
    "        soup=gen\n",
    "        G.append(soup.find(\"span\",{\"class\":\"gc-category\"}).text)\n",
    "        G.append(soup.find_all(\"span\",{\"class\":\"aliasMainName\"})[1].text)\n",
    "        lista =soup.find_all(\"area\",{\"title\":re.compile('.*Breast.*')})\n",
    "        G.append(lista[0][\"title\"].split(\",\")[0]+', '+lista[3][\"title\"].split(\",\")[0])\n",
    "        G.append(lista[1][\"title\"].split(\",\")[0])\n",
    "        G.append(lista[2][\"title\"].split(\",\")[0])\n",
    "    genes.append(G)\n",
    "print(genes)"
   ]
  },
  {
   "cell_type": "code",
   "execution_count": 32,
   "id": "2ea95b1c",
   "metadata": {},
   "outputs": [
    {
     "data": {
      "text/html": [
       "<div>\n",
       "<style scoped>\n",
       "    .dataframe tbody tr th:only-of-type {\n",
       "        vertical-align: middle;\n",
       "    }\n",
       "\n",
       "    .dataframe tbody tr th {\n",
       "        vertical-align: top;\n",
       "    }\n",
       "\n",
       "    .dataframe thead th {\n",
       "        text-align: right;\n",
       "    }\n",
       "</style>\n",
       "<table border=\"1\" class=\"dataframe\">\n",
       "  <thead>\n",
       "    <tr style=\"text-align: right;\">\n",
       "      <th></th>\n",
       "      <th>Gen Abrev</th>\n",
       "      <th>Category</th>\n",
       "      <th>Name of the gene</th>\n",
       "      <th>Inicio</th>\n",
       "      <th>Final</th>\n",
       "      <th>RNASeq</th>\n",
       "      <th>Microarray</th>\n",
       "      <th>SAGE</th>\n",
       "    </tr>\n",
       "  </thead>\n",
       "  <tbody>\n",
       "    <tr>\n",
       "      <th>0</th>\n",
       "      <td>TRNAS-GGA</td>\n",
       "      <td>NaN</td>\n",
       "      <td>NaN</td>\n",
       "      <td>32091689</td>\n",
       "      <td>32091761</td>\n",
       "      <td>NaN</td>\n",
       "      <td>NaN</td>\n",
       "      <td>NaN</td>\n",
       "    </tr>\n",
       "    <tr>\n",
       "      <th>1</th>\n",
       "      <td>LOC102173449</td>\n",
       "      <td>NaN</td>\n",
       "      <td>NaN</td>\n",
       "      <td>32837131</td>\n",
       "      <td>32838076</td>\n",
       "      <td>NaN</td>\n",
       "      <td>NaN</td>\n",
       "      <td>NaN</td>\n",
       "    </tr>\n",
       "    <tr>\n",
       "      <th>2</th>\n",
       "      <td>LOC102169333</td>\n",
       "      <td>NaN</td>\n",
       "      <td>NaN</td>\n",
       "      <td>33089112</td>\n",
       "      <td>33090132</td>\n",
       "      <td>NaN</td>\n",
       "      <td>NaN</td>\n",
       "      <td>NaN</td>\n",
       "    </tr>\n",
       "    <tr>\n",
       "      <th>3</th>\n",
       "      <td>LOC108636757</td>\n",
       "      <td>NaN</td>\n",
       "      <td>NaN</td>\n",
       "      <td>33764252</td>\n",
       "      <td>33768221</td>\n",
       "      <td>NaN</td>\n",
       "      <td>NaN</td>\n",
       "      <td>NaN</td>\n",
       "    </tr>\n",
       "    <tr>\n",
       "      <th>4</th>\n",
       "      <td>LOC102187712</td>\n",
       "      <td>NaN</td>\n",
       "      <td>NaN</td>\n",
       "      <td>33810174</td>\n",
       "      <td>33811741</td>\n",
       "      <td>NaN</td>\n",
       "      <td>NaN</td>\n",
       "      <td>NaN</td>\n",
       "    </tr>\n",
       "    <tr>\n",
       "      <th>5</th>\n",
       "      <td>VGLL3</td>\n",
       "      <td>(Protein Coding)</td>\n",
       "      <td>Vestigial Like Family Member 3</td>\n",
       "      <td>33882149</td>\n",
       "      <td>33934641</td>\n",
       "      <td>25, 44</td>\n",
       "      <td>Breast - No Data</td>\n",
       "      <td>0</td>\n",
       "    </tr>\n",
       "    <tr>\n",
       "      <th>6</th>\n",
       "      <td>CHMP2B</td>\n",
       "      <td>(Protein Coding)</td>\n",
       "      <td>Charged Multivesicular Body Protein 2B</td>\n",
       "      <td>34199383</td>\n",
       "      <td>34231630</td>\n",
       "      <td>42, 44</td>\n",
       "      <td>Breast - No Data</td>\n",
       "      <td>21</td>\n",
       "    </tr>\n",
       "    <tr>\n",
       "      <th>7</th>\n",
       "      <td>POU1F1</td>\n",
       "      <td>(Protein Coding)</td>\n",
       "      <td>POU Class 1 Homeobox 1</td>\n",
       "      <td>34235896</td>\n",
       "      <td>34251973</td>\n",
       "      <td>2, 0</td>\n",
       "      <td>Breast - No Data</td>\n",
       "      <td>3</td>\n",
       "    </tr>\n",
       "    <tr>\n",
       "      <th>8</th>\n",
       "      <td>HTR1F</td>\n",
       "      <td>(Protein Coding)</td>\n",
       "      <td>5-Hydroxytryptamine Receptor 1F</td>\n",
       "      <td>34811253</td>\n",
       "      <td>34812505</td>\n",
       "      <td>6, 3</td>\n",
       "      <td>Breast - No Data</td>\n",
       "      <td>Breast - No Data</td>\n",
       "    </tr>\n",
       "    <tr>\n",
       "      <th>9</th>\n",
       "      <td>LOC102188976</td>\n",
       "      <td>NaN</td>\n",
       "      <td>NaN</td>\n",
       "      <td>34826096</td>\n",
       "      <td>34855603</td>\n",
       "      <td>NaN</td>\n",
       "      <td>NaN</td>\n",
       "      <td>NaN</td>\n",
       "    </tr>\n",
       "  </tbody>\n",
       "</table>\n",
       "</div>"
      ],
      "text/plain": [
       "      Gen Abrev          Category                        Name of the gene  \\\n",
       "0     TRNAS-GGA               NaN                                     NaN   \n",
       "1  LOC102173449               NaN                                     NaN   \n",
       "2  LOC102169333               NaN                                     NaN   \n",
       "3  LOC108636757               NaN                                     NaN   \n",
       "4  LOC102187712               NaN                                     NaN   \n",
       "5         VGLL3  (Protein Coding)          Vestigial Like Family Member 3   \n",
       "6        CHMP2B  (Protein Coding)  Charged Multivesicular Body Protein 2B   \n",
       "7        POU1F1  (Protein Coding)                  POU Class 1 Homeobox 1   \n",
       "8         HTR1F  (Protein Coding)         5-Hydroxytryptamine Receptor 1F   \n",
       "9  LOC102188976               NaN                                     NaN   \n",
       "\n",
       "     Inicio     Final  RNASeq        Microarray              SAGE  \n",
       "0  32091689  32091761     NaN               NaN               NaN  \n",
       "1  32837131  32838076     NaN               NaN               NaN  \n",
       "2  33089112  33090132     NaN               NaN               NaN  \n",
       "3  33764252  33768221     NaN               NaN               NaN  \n",
       "4  33810174  33811741     NaN               NaN               NaN  \n",
       "5  33882149  33934641  25, 44  Breast - No Data                 0  \n",
       "6  34199383  34231630  42, 44  Breast - No Data                21  \n",
       "7  34235896  34251973    2, 0  Breast - No Data                 3  \n",
       "8  34811253  34812505    6, 3  Breast - No Data  Breast - No Data  \n",
       "9  34826096  34855603     NaN               NaN               NaN  "
      ]
     },
     "execution_count": 32,
     "metadata": {},
     "output_type": "execute_result"
    }
   ],
   "source": [
    "import numpy as np\n",
    "import pandas as pd\n",
    "#es importante que nuestro archivo sea un data frame, para su facil manejo\n",
    "GENES=pd.DataFrame(genes, columns=['Category','Name of the gene','RNASeq','Microarray','SAGE'])\n",
    "#guardamos las columnas:\n",
    "colum1=data['Gen Abrev'] # Guardamos la columna Gen Abrev en el objeto llamado t1\n",
    "colum2=GENES.iloc[:,[0,1]]\n",
    "colum3=data[['Inicio','Final']] # Guardamos las columnas Inicio y Final en el objeto llamado t3\n",
    "colum4=GENES.iloc[:,2:5]\n",
    "A = pd.concat([colum1,colum2,colum3,colum4], axis=1)\n",
    "A = A.fillna(value='NaN')\n",
    "A.head(10)"
   ]
  },
  {
   "cell_type": "code",
   "execution_count": 35,
   "id": "1aead7d1",
   "metadata": {},
   "outputs": [],
   "source": [
    "A.to_excel(\"CHGenesOrdenadosConVecinos1.xlsx\",index=False)"
   ]
  }
 ],
 "metadata": {
  "kernelspec": {
   "display_name": "Python 3",
   "language": "python",
   "name": "python3"
  },
  "language_info": {
   "codemirror_mode": {
    "name": "ipython",
    "version": 3
   },
   "file_extension": ".py",
   "mimetype": "text/x-python",
   "name": "python",
   "nbconvert_exporter": "python",
   "pygments_lexer": "ipython3",
   "version": "3.8.8"
  }
 },
 "nbformat": 4,
 "nbformat_minor": 5
}
