{
 "cells": [
  {
   "cell_type": "markdown",
   "id": "e7111534",
   "metadata": {},
   "source": [
    "# PC2_LP2_UNALM"
   ]
  },
  {
   "cell_type": "markdown",
   "id": "0d9a1fbe",
   "metadata": {},
   "source": [
    "Integrantes:\n",
    "    - Ana\n",
    "    - Stefano\n",
    "    - Elian"
   ]
  },
  {
   "cell_type": "markdown",
   "id": "4e2b066b",
   "metadata": {},
   "source": [
    "- ¿Tiene API?\n",
    " No tiene API\n",
    "\n",
    "- Crear un repositorio de trabajo en GitHub y trabajar de manera colaborativa con los integrantes de su grupo.\n",
    "https://github.com/analisset7/PC2_LP2_UNALM\n",
    "\n",
    "- Descargar la información solicitada y estructurarla de acuerdo al formato en excel: \"CHGenesOrdenadosConVecinos.xlsx\".\n",
    "\n"
   ]
  },
  {
   "cell_type": "code",
   "execution_count": 2,
   "id": "1365f490",
   "metadata": {},
   "outputs": [
    {
     "data": {
      "text/html": [
       "<div>\n",
       "<style scoped>\n",
       "    .dataframe tbody tr th:only-of-type {\n",
       "        vertical-align: middle;\n",
       "    }\n",
       "\n",
       "    .dataframe tbody tr th {\n",
       "        vertical-align: top;\n",
       "    }\n",
       "\n",
       "    .dataframe thead th {\n",
       "        text-align: right;\n",
       "    }\n",
       "</style>\n",
       "<table border=\"1\" class=\"dataframe\">\n",
       "  <thead>\n",
       "    <tr style=\"text-align: right;\">\n",
       "      <th></th>\n",
       "      <th>TRNAS-GGA</th>\n",
       "      <th>Unnamed: 1</th>\n",
       "      <th>Unnamed: 2</th>\n",
       "      <th>32091689</th>\n",
       "      <th>32091761</th>\n",
       "      <th>Unnamed: 5</th>\n",
       "      <th>Unnamed: 6</th>\n",
       "      <th>Unnamed: 7</th>\n",
       "    </tr>\n",
       "  </thead>\n",
       "  <tbody>\n",
       "    <tr>\n",
       "      <th>207</th>\n",
       "      <td>TBC1D5</td>\n",
       "      <td>NaN</td>\n",
       "      <td>NaN</td>\n",
       "      <td>153936559</td>\n",
       "      <td>154524620</td>\n",
       "      <td>NaN</td>\n",
       "      <td>NaN</td>\n",
       "      <td>NaN</td>\n",
       "    </tr>\n",
       "    <tr>\n",
       "      <th>208</th>\n",
       "      <td>TRNAW-CCA</td>\n",
       "      <td>NaN</td>\n",
       "      <td>NaN</td>\n",
       "      <td>154244176</td>\n",
       "      <td>154244247</td>\n",
       "      <td>NaN</td>\n",
       "      <td>NaN</td>\n",
       "      <td>NaN</td>\n",
       "    </tr>\n",
       "    <tr>\n",
       "      <th>209</th>\n",
       "      <td>SATB1</td>\n",
       "      <td>NaN</td>\n",
       "      <td>NaN</td>\n",
       "      <td>155262593</td>\n",
       "      <td>155364610</td>\n",
       "      <td>NaN</td>\n",
       "      <td>NaN</td>\n",
       "      <td>NaN</td>\n",
       "    </tr>\n",
       "    <tr>\n",
       "      <th>210</th>\n",
       "      <td>KCNH8</td>\n",
       "      <td>NaN</td>\n",
       "      <td>NaN</td>\n",
       "      <td>156184812</td>\n",
       "      <td>156650711</td>\n",
       "      <td>NaN</td>\n",
       "      <td>NaN</td>\n",
       "      <td>NaN</td>\n",
       "    </tr>\n",
       "    <tr>\n",
       "      <th>211</th>\n",
       "      <td>Gen Abrev</td>\n",
       "      <td>Category</td>\n",
       "      <td>Name of the gene</td>\n",
       "      <td>Inicio</td>\n",
       "      <td>Final</td>\n",
       "      <td>RNASeq</td>\n",
       "      <td>Microarray</td>\n",
       "      <td>SAGE</td>\n",
       "    </tr>\n",
       "  </tbody>\n",
       "</table>\n",
       "</div>"
      ],
      "text/plain": [
       "     TRNAS-GGA Unnamed: 1        Unnamed: 2   32091689   32091761 Unnamed: 5  \\\n",
       "207     TBC1D5        NaN               NaN  153936559  154524620        NaN   \n",
       "208  TRNAW-CCA        NaN               NaN  154244176  154244247        NaN   \n",
       "209      SATB1        NaN               NaN  155262593  155364610        NaN   \n",
       "210      KCNH8        NaN               NaN  156184812  156650711        NaN   \n",
       "211  Gen Abrev   Category  Name of the gene     Inicio      Final     RNASeq   \n",
       "\n",
       "     Unnamed: 6 Unnamed: 7  \n",
       "207         NaN        NaN  \n",
       "208         NaN        NaN  \n",
       "209         NaN        NaN  \n",
       "210         NaN        NaN  \n",
       "211  Microarray       SAGE  "
      ]
     },
     "execution_count": 2,
     "metadata": {},
     "output_type": "execute_result"
    }
   ],
   "source": [
    "import pandas as pd # Importamos pandas \n",
    "df= pd.read_excel('CHGenesOrdenadosConVecinos.xlsx',engine='openpyxl',skiprows=[0],usecols=range(8)) # Leemos el archivo de excel\n",
    "df.tail() #mostramos la lectura"
   ]
  }
 ],
 "metadata": {
  "kernelspec": {
   "display_name": "Python 3",
   "language": "python",
   "name": "python3"
  },
  "language_info": {
   "codemirror_mode": {
    "name": "ipython",
    "version": 3
   },
   "file_extension": ".py",
   "mimetype": "text/x-python",
   "name": "python",
   "nbconvert_exporter": "python",
   "pygments_lexer": "ipython3",
   "version": "3.8.8"
  }
 },
 "nbformat": 4,
 "nbformat_minor": 5
}
