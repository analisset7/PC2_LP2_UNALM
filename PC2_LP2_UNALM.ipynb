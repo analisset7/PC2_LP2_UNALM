{
 "cells": [
  {
   "cell_type": "markdown",
   "id": "e7111534",
   "metadata": {},
   "source": [
    "# PC2_LP2_UNALM"
   ]
  },
  {
   "cell_type": "markdown",
   "id": "0d9a1fbe",
   "metadata": {},
   "source": [
    "Integrantes:\n",
    "    - Ana\n",
    "    - Stefano\n",
    "    - Elian"
   ]
  },
  {
   "cell_type": "markdown",
   "id": "4e2b066b",
   "metadata": {},
   "source": [
    "- ¿Tiene API?\n",
    " No tiene API\n",
    "\n",
    "- Crear un repositorio de trabajo en GitHub y trabajar de manera colaborativa con los integrantes de su grupo.\n",
    "https://github.com/analisset7/PC2_LP2_UNALM\n",
    "\n",
    "- Descargar la información solicitada y estructurarla de acuerdo al formato en excel: \"CHGenesOrdenadosConVecinos.xlsx\".\n",
    "\n"
   ]
  },
  {
   "cell_type": "code",
   "execution_count": 10,
   "id": "1365f490",
   "metadata": {
    "scrolled": true
   },
   "outputs": [
    {
     "data": {
      "text/html": [
       "<div>\n",
       "<style scoped>\n",
       "    .dataframe tbody tr th:only-of-type {\n",
       "        vertical-align: middle;\n",
       "    }\n",
       "\n",
       "    .dataframe tbody tr th {\n",
       "        vertical-align: top;\n",
       "    }\n",
       "\n",
       "    .dataframe thead th {\n",
       "        text-align: right;\n",
       "    }\n",
       "</style>\n",
       "<table border=\"1\" class=\"dataframe\">\n",
       "  <thead>\n",
       "    <tr style=\"text-align: right;\">\n",
       "      <th></th>\n",
       "      <th>Gen Abrev</th>\n",
       "      <th>Category</th>\n",
       "      <th>Name of the gene</th>\n",
       "      <th>Inicio</th>\n",
       "      <th>Final</th>\n",
       "      <th>RNASeq</th>\n",
       "      <th>Microarray</th>\n",
       "      <th>SAGE</th>\n",
       "    </tr>\n",
       "  </thead>\n",
       "  <tbody>\n",
       "    <tr>\n",
       "      <th>207</th>\n",
       "      <td>PLCL2</td>\n",
       "      <td>NaN</td>\n",
       "      <td>NaN</td>\n",
       "      <td>153722829</td>\n",
       "      <td>153936148</td>\n",
       "      <td>NaN</td>\n",
       "      <td>NaN</td>\n",
       "      <td>NaN</td>\n",
       "    </tr>\n",
       "    <tr>\n",
       "      <th>208</th>\n",
       "      <td>TBC1D5</td>\n",
       "      <td>NaN</td>\n",
       "      <td>NaN</td>\n",
       "      <td>153936559</td>\n",
       "      <td>154524620</td>\n",
       "      <td>NaN</td>\n",
       "      <td>NaN</td>\n",
       "      <td>NaN</td>\n",
       "    </tr>\n",
       "    <tr>\n",
       "      <th>209</th>\n",
       "      <td>TRNAW-CCA</td>\n",
       "      <td>NaN</td>\n",
       "      <td>NaN</td>\n",
       "      <td>154244176</td>\n",
       "      <td>154244247</td>\n",
       "      <td>NaN</td>\n",
       "      <td>NaN</td>\n",
       "      <td>NaN</td>\n",
       "    </tr>\n",
       "    <tr>\n",
       "      <th>210</th>\n",
       "      <td>SATB1</td>\n",
       "      <td>NaN</td>\n",
       "      <td>NaN</td>\n",
       "      <td>155262593</td>\n",
       "      <td>155364610</td>\n",
       "      <td>NaN</td>\n",
       "      <td>NaN</td>\n",
       "      <td>NaN</td>\n",
       "    </tr>\n",
       "    <tr>\n",
       "      <th>211</th>\n",
       "      <td>KCNH8</td>\n",
       "      <td>NaN</td>\n",
       "      <td>NaN</td>\n",
       "      <td>156184812</td>\n",
       "      <td>156650711</td>\n",
       "      <td>NaN</td>\n",
       "      <td>NaN</td>\n",
       "      <td>NaN</td>\n",
       "    </tr>\n",
       "  </tbody>\n",
       "</table>\n",
       "</div>"
      ],
      "text/plain": [
       "     Gen Abrev  Category  Name of the gene     Inicio      Final  RNASeq  \\\n",
       "207      PLCL2       NaN               NaN  153722829  153936148     NaN   \n",
       "208     TBC1D5       NaN               NaN  153936559  154524620     NaN   \n",
       "209  TRNAW-CCA       NaN               NaN  154244176  154244247     NaN   \n",
       "210      SATB1       NaN               NaN  155262593  155364610     NaN   \n",
       "211      KCNH8       NaN               NaN  156184812  156650711     NaN   \n",
       "\n",
       "     Microarray  SAGE  \n",
       "207         NaN   NaN  \n",
       "208         NaN   NaN  \n",
       "209         NaN   NaN  \n",
       "210         NaN   NaN  \n",
       "211         NaN   NaN  "
      ]
     },
     "execution_count": 10,
     "metadata": {},
     "output_type": "execute_result"
    }
   ],
   "source": [
    "import pandas as pd \n",
    "data= pd.read_excel('CHGenesOrdenadosConVecinos.xlsx',engine='openpyxl',skiprows=[0],usecols=range(8)) # Leemos el archivo de excel\n",
    "data.tail() #mostramos la lectura"
   ]
  },
  {
   "cell_type": "code",
   "execution_count": 11,
   "id": "5584ab63",
   "metadata": {},
   "outputs": [
    {
     "data": {
      "text/plain": [
       "['TRNAS-GGA', 'LOC102173449', 'LOC102169333', 'LOC108636757', 'LOC102187712']"
      ]
     },
     "execution_count": 11,
     "metadata": {},
     "output_type": "execute_result"
    }
   ],
   "source": [
    "Gen=data[\"Gen Abrev\"] # Extraemos la primera columna y la guardamos en \"Gen\"\n",
    "Gen=Gen.tolist()      # Lo tranformamos en una lista\n",
    "Gen[0:5]              # Mostramos los cinco primeros datos"
   ]
  }
 ],
 "metadata": {
  "kernelspec": {
   "display_name": "Python 3",
   "language": "python",
   "name": "python3"
  },
  "language_info": {
   "codemirror_mode": {
    "name": "ipython",
    "version": 3
   },
   "file_extension": ".py",
   "mimetype": "text/x-python",
   "name": "python",
   "nbconvert_exporter": "python",
   "pygments_lexer": "ipython3",
   "version": "3.8.8"
  }
 },
 "nbformat": 4,
 "nbformat_minor": 5
}
